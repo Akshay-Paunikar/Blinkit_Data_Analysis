{
 "cells": [
  {
   "cell_type": "markdown",
   "id": "ef91aa86",
   "metadata": {},
   "source": [
    "### Blinkit Data Analysis"
   ]
  },
  {
   "cell_type": "markdown",
   "id": "49dc67bc",
   "metadata": {},
   "source": [
    "#### Business Requirement:\n",
    "\n",
    "To conduct a comprehensive analysis of Blinkit's sales performance, customer satisfaction and inventory distribution to identify key insights and opportunities for optimization using various KPI's and visualization in PowerBI."
   ]
  },
  {
   "cell_type": "code",
   "execution_count": null,
   "id": "fd781fc0",
   "metadata": {},
   "outputs": [
    {
     "ename": "",
     "evalue": "",
     "output_type": "error",
     "traceback": [
      "\u001b[1;31mFailed to start the Kernel. \n",
      "\u001b[1;31mUnable to start Kernel 'Deep_Learning (Python 3.9.18)' due to a timeout waiting for the ports to get used. \n",
      "\u001b[1;31mView Jupyter <a href='command:jupyter.viewOutput'>log</a> for further details."
     ]
    }
   ],
   "source": [
    "import numpy as np\n",
    "import pandas as pd\n",
    "import matplotlib.pyplot as plt\n",
    "%matplotlib inline\n",
    "import seaborn as sns"
   ]
  },
  {
   "cell_type": "code",
   "execution_count": null,
   "id": "b0a15edb",
   "metadata": {},
   "outputs": [],
   "source": []
  }
 ],
 "metadata": {
  "kernelspec": {
   "display_name": "Deep_Learning",
   "language": "python",
   "name": "python3"
  },
  "language_info": {
   "name": "python",
   "version": "3.9.18"
  }
 },
 "nbformat": 4,
 "nbformat_minor": 5
}
